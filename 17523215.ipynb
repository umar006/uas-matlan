{
 "cells": [
  {
   "cell_type": "code",
   "execution_count": 2,
   "metadata": {},
   "outputs": [],
   "source": [
    "library(polynom)"
   ]
  },
  {
   "cell_type": "code",
   "execution_count": 8,
   "metadata": {},
   "outputs": [
    {
     "data": {
      "text/plain": [
       "\n",
       "Call:\n",
       "lm(formula = yi ~ xi)\n",
       "\n",
       "Residuals:\n",
       "   1    2    3    4    5 \n",
       "-1.4  1.9 -2.8  5.5 -3.2 \n",
       "\n",
       "Coefficients:\n",
       "            Estimate Std. Error t value Pr(>|t|)\n",
       "(Intercept)   -93.60      69.73  -1.342    0.272\n",
       "xi              2.70       1.34   2.014    0.137\n",
       "\n",
       "Residual standard error: 4.239 on 3 degrees of freedom\n",
       "Multiple R-squared:  0.5749,\tAdjusted R-squared:  0.4332 \n",
       "F-statistic: 4.058 on 1 and 3 DF,  p-value: 0.1374\n"
      ]
     },
     "metadata": {},
     "output_type": "display_data"
    }
   ],
   "source": [
    "#1\n",
    "xi <- c(50:54)\n",
    "yi <- c(40, 46, 44, 55, 49)\n",
    "\n",
    "model <- lm(yi ~ xi)\n",
    "summary(model)"
   ]
  },
  {
   "cell_type": "code",
   "execution_count": 10,
   "metadata": {},
   "outputs": [
    {
     "data": {
      "text/html": [
       "54.9"
      ],
      "text/latex": [
       "54.9"
      ],
      "text/markdown": [
       "54.9"
      ],
      "text/plain": [
       "[1] 54.9"
      ]
     },
     "metadata": {},
     "output_type": "display_data"
    }
   ],
   "source": [
    "#2\n",
    "x <- 55\n",
    "y <- -93.6 + 2.7*x\n",
    "y"
   ]
  },
  {
   "cell_type": "code",
   "execution_count": 13,
   "metadata": {},
   "outputs": [
    {
     "data": {
      "text/plain": [
       "1 - 0.07916667*x + 2.19375*x^2 - 0.9958333*x^3 + 0.13125*x^4 "
      ]
     },
     "metadata": {},
     "output_type": "display_data"
    }
   ],
   "source": [
    "#3\n",
    "xi <- c(0:4)\n",
    "yi <- c(1, 2.25, 3.75, 4.25, 5.65)\n",
    "\n",
    "dat <- data.frame(cbind(xi, yi))\n",
    "poly.calc(xi, yi)"
   ]
  },
  {
   "cell_type": "code",
   "execution_count": 15,
   "metadata": {},
   "outputs": [
    {
     "data": {
      "text/html": [
       "4.168677441875"
      ],
      "text/latex": [
       "4.168677441875"
      ],
      "text/markdown": [
       "4.168677441875"
      ],
      "text/plain": [
       "[1] 4.168677"
      ]
     },
     "metadata": {},
     "output_type": "display_data"
    }
   ],
   "source": [
    "#4\n",
    "f1 <- function(x){\n",
    "    return (1 - 0.07916667*x + 2.19375*x^2 - 0.9958333*x^3 + 0.13125*x^4)\n",
    "}\n",
    "\n",
    "f1(2.75)"
   ]
  },
  {
   "cell_type": "code",
   "execution_count": 18,
   "metadata": {},
   "outputs": [
    {
     "data": {
      "image/png": "[encoded data removed]",
      "text/plain": [
       "plot without title"
      ]
     },
     "metadata": {},
     "output_type": "display_data"
    }
   ],
   "source": [
    "#5\n",
    "plot(xi, yi)\n",
    "curve(f1, add=TRUE)"
   ]
  },
  {
   "cell_type": "code",
   "execution_count": 19,
   "metadata": {},
   "outputs": [],
   "source": [
    "#6\n",
    "bi <- function(a, b){\n",
    "    re <- 3\n",
    "    pn <- (a + b)/2\n",
    "    while(re >= 0.0001){\n",
    "        print(paste(a, b, pn, fx(pn), fx(a), re, sep=\" \"))\n",
    "        p <- pn\n",
    "        \n",
    "        if(sign(g(p)) == sign(g(a))){\n",
    "            a <- p\n",
    "        } else{\n",
    "            b <- p\n",
    "        }\n",
    "        pn <- (a + b)/2\n",
    "        re <- abs(pn-p)/abs(pn)\n",
    "    }\n",
    "}"
   ]
  },
  {
   "cell_type": "code",
   "execution_count": 32,
   "metadata": {},
   "outputs": [
    {
     "data": {
      "text/html": [
       "<dl>\n",
       "\t<dt>$value</dt>\n",
       "\t\t<dd>-5.66666665673256</dd>\n",
       "\t<dt>$iter</dt>\n",
       "\t\t<dd>12</dd>\n",
       "\t<dt>$rel.err</dt>\n",
       "\t\t<dd>2.98023223876953e-08</dd>\n",
       "</dl>\n"
      ],
      "text/latex": [
       "\\begin{description}\n",
       "\\item[\\$value] -5.66666665673256\n",
       "\\item[\\$iter] 12\n",
       "\\item[\\$rel.err] 2.98023223876953e-08\n",
       "\\end{description}\n"
      ],
      "text/markdown": [
       "$value\n",
       ":   -5.66666665673256\n",
       "$iter\n",
       ":   12\n",
       "$rel.err\n",
       ":   2.98023223876953e-08\n",
       "\n",
       "\n"
      ],
      "text/plain": [
       "$value\n",
       "[1] -5.666667\n",
       "\n",
       "$iter\n",
       "[1] 12\n",
       "\n",
       "$rel.err\n",
       "[1] 2.980232e-08\n"
      ]
     },
     "metadata": {},
     "output_type": "display_data"
    }
   ],
   "source": [
    "library(pracma)\n",
    "#11\n",
    "f1 <- function(x){\n",
    "    return (x^2 - 6)\n",
    "}\n",
    "\n",
    "trapzfun(f1, 0, 1)"
   ]
  },
  {
   "cell_type": "code",
   "execution_count": 33,
   "metadata": {},
   "outputs": [
    {
     "data": {
      "text/html": [
       "<dl>\n",
       "\t<dt>$value</dt>\n",
       "\t\t<dd>3.08333335444331</dd>\n",
       "\t<dt>$iter</dt>\n",
       "\t\t<dd>13</dd>\n",
       "\t<dt>$rel.err</dt>\n",
       "\t\t<dd>6.33299350738525e-08</dd>\n",
       "</dl>\n"
      ],
      "text/latex": [
       "\\begin{description}\n",
       "\\item[\\$value] 3.08333335444331\n",
       "\\item[\\$iter] 13\n",
       "\\item[\\$rel.err] 6.33299350738525e-08\n",
       "\\end{description}\n"
      ],
      "text/markdown": [
       "$value\n",
       ":   3.08333335444331\n",
       "$iter\n",
       ":   13\n",
       "$rel.err\n",
       ":   6.33299350738525e-08\n",
       "\n",
       "\n"
      ],
      "text/plain": [
       "$value\n",
       "[1] 3.083333\n",
       "\n",
       "$iter\n",
       "[1] 13\n",
       "\n",
       "$rel.err\n",
       "[1] 6.332994e-08\n"
      ]
     },
     "metadata": {},
     "output_type": "display_data"
    }
   ],
   "source": [
    "#12\n",
    "f2 <- function(x){\n",
    "    return (x^3 + 4*x^2 - 10)\n",
    "}\n",
    "\n",
    "trapzfun(f2, 1, 2)"
   ]
  },
  {
   "cell_type": "code",
   "execution_count": 94,
   "metadata": {},
   "outputs": [],
   "source": [
    "#13\n",
    "h <- 0.1\n",
    "x <- seq(0, 1, by=h)\n",
    "f <- function(x){\n",
    "    return (x^2)\n",
    "}\n",
    "\n",
    "f0 <- f(x[1])\n",
    "fi <- sapply(x[2:10], f)\n",
    "fn <- f(x[length(x)])\n",
    "L <- h*(f0 + 2*sum(fi) + fn)/2\n",
    "\n",
    "trap <- function(f0, fi, fn, h){\n",
    "    return (L)\n",
    "}"
   ]
  },
  {
   "cell_type": "code",
   "execution_count": 95,
   "metadata": {},
   "outputs": [
    {
     "data": {
      "text/html": [
       "0.335"
      ],
      "text/latex": [
       "0.335"
      ],
      "text/markdown": [
       "0.335"
      ],
      "text/plain": [
       "[1] 0.335"
      ]
     },
     "metadata": {},
     "output_type": "display_data"
    }
   ],
   "source": [
    "#14\n",
    "trap(f0, fi, fn, h)"
   ]
  },
  {
   "cell_type": "code",
   "execution_count": 96,
   "metadata": {},
   "outputs": [
    {
     "data": {
      "text/html": [
       "0.34"
      ],
      "text/latex": [
       "0.34"
      ],
      "text/markdown": [
       "0.34"
      ],
      "text/plain": [
       "[1] 0.34"
      ]
     },
     "metadata": {},
     "output_type": "display_data"
    }
   ],
   "source": [
    "#15\n",
    "h <- 0.2\n",
    "x <- seq(0, 1, by=h)\n",
    "f <- function(x){\n",
    "    return (x^2)\n",
    "}\n",
    "\n",
    "f0 <- f(x[1])\n",
    "fi <- sapply(x[2:5], f)\n",
    "fn <- f(x[length(x)])\n",
    "L <- h*(f0 + 2*sum(fi) + fn)/2\n",
    "\n",
    "trap <- function(f0, fi, fn, h){\n",
    "    return (L)\n",
    "}\n",
    "\n",
    "trap(f0, fi, fn, h)"
   ]
  }
 ],
 "metadata": {
  "kernelspec": {
   "display_name": "R",
   "language": "R",
   "name": "ir"
  },
  "language_info": {
   "codemirror_mode": "r",
   "file_extension": ".r",
   "mimetype": "text/x-r-source",
   "name": "R",
   "pygments_lexer": "r",
   "version": "3.5.2"
  }
 },
 "nbformat": 4,
 "nbformat_minor": 2
}
